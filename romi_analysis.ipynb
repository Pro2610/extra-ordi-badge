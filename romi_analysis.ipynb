# 📊 ROMI Analysis of Marketing Campaigns in Python

# ---------------------------------------------
# 🧹 Step 1: Import libraries and load the dataset
# ---------------------------------------------

import pandas as pd
import matplotlib.pyplot as plt
import seaborn as sns

# Set plot style
plt.style.use('seaborn-whitegrid')

# Load the dataset
data = pd.read_csv('data/your_dataset.csv')  # Replace with your path
data['ad_date'] = pd.to_datetime(data['ad_date'])

# ---------------------------------------------
# 📅 Step 2: Filter data for 2021
# ---------------------------------------------

data_2021 = data[(data['ad_date'] >= '2021-01-01') & (data['ad_date'] < '2022-01-01')]

# ---------------------------------------------
# 📊 Step 3: Group by campaign and calculate ROMI
# ---------------------------------------------

campaign_data = data_2021.groupby('campaign_name').agg({
    'total_spend': 'sum',
    'total_value': 'sum'
}).reset_index()

campaign_data['romi'] = (campaign_data['total_value'] - campaign_data['total_spend']) / campaign_data['total_spend']

# ---------------------------------------------
# 📈 Step 4: Daily Spend and ROMI (Rolling Averages)
# ---------------------------------------------

daily_data = data_2021.groupby('ad_date').agg({
    'total_spend': 'sum',
    'total_value': 'sum'
}).reset_index()

daily_data['romi'] = (daily_data['total_value'] - daily_data['total_spend']) / daily_data['total_spend']
daily_data['rolling_spend'] = daily_data['total_spend'].rolling(window=7).mean()
daily_data['rolling_romi'] = daily_data['romi'].rolling(window=7).mean()

# Plot 1: Daily Spend
plt.figure(figsize=(12, 6))
plt.plot(daily_data['ad_date'], daily_data['total_spend'], label='Daily Spend')
plt.title('Daily Advertising Spend in 2021')
plt.xlabel('Date')
plt.ylabel('Spend')
plt.legend()
plt.savefig('images/daily_spend.png')
plt.show()

# Plot 2: Daily ROMI
plt.figure(figsize=(12, 6))
plt.plot(daily_data['ad_date'], daily_data['romi'], label='Daily ROMI', color='orange')
plt.title('Daily ROMI in 2021')
plt.xlabel('Date')
plt.ylabel('ROMI')
plt.legend()
plt.savefig('images/daily_romi.png')
plt.show()

# Plot 3: Rolling Average for Spend
plt.figure(figsize=(12, 6))
plt.plot(daily_data['ad_date'], daily_data['total_spend'], label='Daily Spend')
plt.plot(daily_data['ad_date'], daily_data['rolling_spend'], label='7-day Rolling Spend', linestyle='--')
plt.title('Daily Spend with Rolling Average')
plt.xlabel('Date')
plt.ylabel('Spend')
plt.legend()
plt.savefig('images/rolling_spend.png')
plt.show()

# Plot 4: Rolling Average for ROMI
plt.figure(figsize=(12, 6))
plt.plot(daily_data['ad_date'], daily_data['romi'], label='Daily ROMI', color='orange')
plt.plot(daily_data['ad_date'], daily_data['rolling_romi'], label='7-day Rolling ROMI', linestyle='--', color='red')
plt.title('ROMI with Rolling Average')
plt.xlabel('Date')
plt.ylabel('ROMI')
plt.legend()
plt.savefig('images/rolling_romi.png')
plt.show()

# ---------------------------------------------
# 📊 Step 5: Campaign-level Analysis
# ---------------------------------------------

# Plot 5: Total Spend per Campaign
plt.figure(figsize=(12, 6))
sns.barplot(data=campaign_data, x='total_spend', y='campaign_name', palette='viridis')
plt.title('Total Advertising Spend per Campaign')
plt.xlabel('Total Spend')
plt.ylabel('Campaign Name')
plt.savefig('images/spend_per_campaign.png')
plt.show()

# Plot 6: ROMI Distribution per Campaign (Boxplot)
data['romi'] = (data['total_value'] - data['total_spend']) / data['total_spend']
plt.figure(figsize=(12, 6))
sns.boxplot(data=data, x='romi', y='campaign_name', palette='Set3')
plt.title('ROMI Distribution by Campaign')
plt.xlabel('ROMI')
plt.ylabel('Campaign Name')
plt.savefig('images/romi_boxplot.png')
plt.show()

# Plot 7: ROMI Histogram
plt.figure(figsize=(12, 6))
sns.histplot(data['romi'], kde=True, bins=30, color='purple')
plt.title('ROMI Value Distribution')
plt.xlabel('ROMI')
plt.ylabel('Frequency')
plt.savefig('images/romi_histogram.png')
plt.show()

# Plot 8: Regression between Spend and Revenue
sns.lmplot(x='total_spend', y='total_value', data=data_2021, height=6, aspect=1.5,
           scatter_kws={'alpha': 0.5}, line_kws={'color': 'red'})
plt.title('Spend vs Revenue (Regression)')
plt.xlabel('Total Spend')
plt.ylabel('Total Value')
plt.savefig('images/spend_vs_revenue.png')
plt.show()

# ---------------------------------------------
# 🔍 Step 6: Correlation Heatmap
# ---------------------------------------------

corr_matrix = data.select_dtypes(include=['float64', 'int64']).corr()
plt.figure(figsize=(10, 8))
sns.heatmap(corr_matrix, annot=True, cmap='coolwarm', fmt='.2f', linewidths=0.5)
plt.title('Correlation Heatmap')
plt.savefig('images/correlation_heatmap.png')
plt.show()

# Optional: Print correlation with total_value
print("Correlation with total_value:")
print(corr_matrix['total_value'])
